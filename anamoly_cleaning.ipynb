{
 "cells": [
  {
   "cell_type": "code",
   "execution_count": 1,
   "id": "3c853515-5519-4baf-b090-0df8ce856e41",
   "metadata": {},
   "outputs": [],
   "source": [
    "import pandas as pd\n",
    "import numpy as np\n",
    "import matplotlib.pyplot as plt\n",
    "from sklearn.ensemble import IsolationForest\n",
    "from scipy import stats\n"
   ]
  },
  {
   "cell_type": "code",
   "execution_count": 2,
   "id": "dfc7dcef-145c-43f9-b8e9-641585936c5c",
   "metadata": {},
   "outputs": [],
   "source": [
    "df = pd.read_csv(\"/Users/ranja/Downloads/wind_Energy.csv\", sep='\\t', header=None)\n",
    "df.columns = [\"Date\", \"Speed(m/s)\", \"Direction(°)\", \"Energy(kWh)\"]\n",
    "df[\"Date\"] = pd.to_datetime(df[\"Date\"], dayfirst=True)\n",
    "df.set_index(\"Date\", inplace=True)\n"
   ]
  },
  {
   "cell_type": "code",
   "execution_count": 3,
   "id": "d75f8c7a-dc5d-4fec-b88c-3bb6b6bc385f",
   "metadata": {},
   "outputs": [],
   "source": [
    "# Convert numerical columns\n",
    "def to_numeric(x):\n",
    "    x = str(x).replace(',', '.')\n",
    "    return pd.to_numeric(x, errors='coerce')\n",
    "\n",
    "df[\"Speed(m/s)\"] = df[\"Speed(m/s)\"].apply(to_numeric)\n",
    "df[\"Direction(°)\"] = df[\"Direction(°)\"].apply(to_numeric)\n",
    "df[\"Energy(MWh)\"] = df[\"Energy(kWh)\"].apply(to_numeric) / 1000\n",
    "df.drop(columns=[\"Energy(kWh)\"], inplace=True)\n"
   ]
  },
  {
   "cell_type": "code",
   "execution_count": 4,
   "id": "4b67e52e-f80a-4622-87d8-6b4c3ae20baf",
   "metadata": {},
   "outputs": [],
   "source": [
    "# 1. IQR Method\n",
    "def detect_anomalies_iqr(df, column):\n",
    "    Q1 = df[column].quantile(0.25)\n",
    "    Q3 = df[column].quantile(0.75)\n",
    "    IQR = Q3 - Q1\n",
    "    lower_bound = Q1 - 1.5 * IQR\n",
    "    upper_bound = Q3 + 1.5 * IQR\n",
    "    return df[(df[column] < lower_bound) | (df[column] > upper_bound)]\n",
    "\n",
    "iqr_anomalies = detect_anomalies_iqr(df, \"Energy(MWh)\")"
   ]
  },
  {
   "cell_type": "code",
   "execution_count": 16,
   "id": "a8f2fa23-43ad-4422-a679-ed10fdf6ecfc",
   "metadata": {},
   "outputs": [],
   "source": [
    "# 2. Isolation Forest\n",
    "#def detect_anomalies_isolation_forest(df, column, contamination=0.01):\n",
    "#    model = IsolationForest(contamination=contamination, random_state=42)\n",
    "#    df[\"anomaly\"] = model.fit_predict(df[[column]])\n",
    "#    return df[df[\"anomaly\"] == -1]\n",
    "\n",
    "#iso_anomalies = detect_anomalies_isolation_forest(df, \"Energy(MWh)\")"
   ]
  },
  {
   "cell_type": "code",
   "execution_count": 14,
   "id": "88076c9d-730f-4e42-bb2f-361573b9f673",
   "metadata": {},
   "outputs": [
    {
     "ename": "NameError",
     "evalue": "name 'iso_anomalies' is not defined",
     "output_type": "error",
     "traceback": [
      "\u001b[1;31m---------------------------------------------------------------------------\u001b[0m",
      "\u001b[1;31mNameError\u001b[0m                                 Traceback (most recent call last)",
      "Cell \u001b[1;32mIn[14], line 5\u001b[0m\n\u001b[0;32m      3\u001b[0m plt\u001b[38;5;241m.\u001b[39mplot(df\u001b[38;5;241m.\u001b[39mindex, df[\u001b[38;5;124m\"\u001b[39m\u001b[38;5;124mEnergy(MWh)\u001b[39m\u001b[38;5;124m\"\u001b[39m], label\u001b[38;5;241m=\u001b[39m\u001b[38;5;124m\"\u001b[39m\u001b[38;5;124mEnergy Data\u001b[39m\u001b[38;5;124m\"\u001b[39m, color\u001b[38;5;241m=\u001b[39m\u001b[38;5;124m'\u001b[39m\u001b[38;5;124mblue\u001b[39m\u001b[38;5;124m'\u001b[39m)\n\u001b[0;32m      4\u001b[0m plt\u001b[38;5;241m.\u001b[39mscatter(iqr_anomalies\u001b[38;5;241m.\u001b[39mindex, iqr_anomalies[\u001b[38;5;124m\"\u001b[39m\u001b[38;5;124mEnergy(MWh)\u001b[39m\u001b[38;5;124m\"\u001b[39m], color\u001b[38;5;241m=\u001b[39m\u001b[38;5;124m'\u001b[39m\u001b[38;5;124mred\u001b[39m\u001b[38;5;124m'\u001b[39m, label\u001b[38;5;241m=\u001b[39m\u001b[38;5;124m'\u001b[39m\u001b[38;5;124mIQR Anomalies\u001b[39m\u001b[38;5;124m'\u001b[39m)\n\u001b[1;32m----> 5\u001b[0m plt\u001b[38;5;241m.\u001b[39mscatter(iso_anomalies\u001b[38;5;241m.\u001b[39mindex, iso_anomalies[\u001b[38;5;124m\"\u001b[39m\u001b[38;5;124mEnergy(MWh)\u001b[39m\u001b[38;5;124m\"\u001b[39m], color\u001b[38;5;241m=\u001b[39m\u001b[38;5;124m'\u001b[39m\u001b[38;5;124morange\u001b[39m\u001b[38;5;124m'\u001b[39m, label\u001b[38;5;241m=\u001b[39m\u001b[38;5;124m'\u001b[39m\u001b[38;5;124mIsolation Forest Anomalies\u001b[39m\u001b[38;5;124m'\u001b[39m)\n\u001b[0;32m      6\u001b[0m plt\u001b[38;5;241m.\u001b[39mlegend()\n\u001b[0;32m      7\u001b[0m plt\u001b[38;5;241m.\u001b[39mtitle(\u001b[38;5;124m\"\u001b[39m\u001b[38;5;124mAnomaly Detection in Energy Generation\u001b[39m\u001b[38;5;124m\"\u001b[39m)\n",
      "\u001b[1;31mNameError\u001b[0m: name 'iso_anomalies' is not defined"
     ]
    },
    {
     "data": {
      "image/png": "[encoded data removed]",
      "text/plain": [
       "<Figure size 1200x600 with 1 Axes>"
      ]
     },
     "metadata": {},
     "output_type": "display_data"
    }
   ],
   "source": [
    "# Visualization\n",
    "plt.figure(figsize=(12,6))\n",
    "plt.plot(df.index, df[\"Energy(MWh)\"], label=\"Energy Data\", color='blue')\n",
    "plt.scatter(iqr_anomalies.index, iqr_anomalies[\"Energy(MWh)\"], color='red', label='IQR Anomalies')\n",
    "plt.scatter(iso_anomalies.index, iso_anomalies[\"Energy(MWh)\"], color='orange', label='Isolation Forest Anomalies')\n",
    "plt.legend()\n",
    "plt.title(\"Anomaly Detection in Energy Generation\")\n",
    "plt.show()\n"
   ]
  },
  {
   "cell_type": "code",
   "execution_count": 15,
   "id": "b7fac56e-003b-4af2-b6d2-8f6c3a8b7da7",
   "metadata": {},
   "outputs": [
    {
     "name": "stdout",
     "output_type": "stream",
     "text": [
      "Cleaned dataset ready for forecasting.\n"
     ]
    }
   ],
   "source": [
    "# Remove anomalies\n",
    "df_clean = df[~df.index.isin(iqr_anomalies.index)]\n",
    "\n",
    "# Ready for Forecasting\n",
    "df_clean.drop(columns=[\"anomaly\"], errors='ignore', inplace=True)\n",
    "print(\"Cleaned dataset ready for forecasting.\")"
   ]
  },
  {
   "cell_type": "code",
   "execution_count": null,
   "id": "fefeb3ed-96ac-4cec-a482-2e90d8004550",
   "metadata": {},
   "outputs": [],
   "source": []
  }
 ],
 "metadata": {
  "kernelspec": {
   "display_name": "Python 3 (ipykernel)",
   "language": "python",
   "name": "python3"
  },
  "language_info": {
   "codemirror_mode": {
    "name": "ipython",
    "version": 3
   },
   "file_extension": ".py",
   "mimetype": "text/x-python",
   "name": "python",
   "nbconvert_exporter": "python",
   "pygments_lexer": "ipython3",
   "version": "3.11.7"
  }
 },
 "nbformat": 4,
 "nbformat_minor": 5
}
